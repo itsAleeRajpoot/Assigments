{
 "cells": [
  {
   "cell_type": "markdown",
   "id": "9eeb6c42",
   "metadata": {},
   "source": [
    "###### 1) A company decided to give bonus of 5% to employee if his/her year of service is more than 5 years. Ask user for their salary and year of service and print the net bonus amount"
   ]
  },
  {
   "cell_type": "code",
   "execution_count": 4,
   "id": "cb288d88",
   "metadata": {},
   "outputs": [
    {
     "name": "stdout",
     "output_type": "stream",
     "text": [
      "Enter Your Salary: 6\n",
      "Enter Your Service Duration: 6\n"
     ]
    },
    {
     "ename": "TypeError",
     "evalue": "unsupported operand type(s) for +: 'int' and 'set'",
     "output_type": "error",
     "traceback": [
      "\u001b[1;31m---------------------------------------------------------------------------\u001b[0m",
      "\u001b[1;31mTypeError\u001b[0m                                 Traceback (most recent call last)",
      "Cell \u001b[1;32mIn[4], line 9\u001b[0m\n\u001b[0;32m      7\u001b[0m     \u001b[38;5;28mprint\u001b[39m(\u001b[38;5;124m\"\u001b[39m\u001b[38;5;124mYou are not Eligible for Bonus\u001b[39m\u001b[38;5;124m\"\u001b[39m)\n\u001b[0;32m      8\u001b[0m \u001b[38;5;28;01melse\u001b[39;00m:\n\u001b[1;32m----> 9\u001b[0m     \u001b[38;5;28mprint\u001b[39m(Salary\u001b[38;5;241m+\u001b[39m{Salary\u001b[38;5;241m*\u001b[39mBonus})\n",
      "\u001b[1;31mTypeError\u001b[0m: unsupported operand type(s) for +: 'int' and 'set'"
     ]
    }
   ],
   "source": [
    "Bonus = 0.05\n",
    "Salary = int(input(\"Enter Your Salary: \"))\n",
    "Service = int(input(\"Enter Your Service Duration: \"))\n",
    "Service_required = 5\n",
    "\n",
    "if Service < Service_required:\n",
    "    print(\"You are not Eligible for Bonus\")\n",
    "else:\n",
    "    print(Salary+{Salary*Bonus})\n"
   ]
  },
  {
   "cell_type": "markdown",
   "id": "5fea213c",
   "metadata": {},
   "source": [
    "###### 2) Write a program to check whether a person is eligible for voting or not. (accept age from user) if age is greater than 17 eligible otherwise not eligible"
   ]
  },
  {
   "cell_type": "code",
   "execution_count": 37,
   "id": "03a3fabf",
   "metadata": {},
   "outputs": [
    {
     "name": "stdout",
     "output_type": "stream",
     "text": [
      "Enter Your Name: Ali Abdullah\n",
      "Enter Your Age: 20\n",
      "You are Eligible for Voting\n"
     ]
    }
   ],
   "source": [
    "Name = input(\"Enter Your Name: \")\n",
    "Age = int(input(\"Enter Your Age: \"))\n",
    "Age_Required >= 17\n",
    "\n",
    "if Age < Age_Required:\n",
    "    print(\"Sorry, You are Not Eligible for Voting\")\n",
    "else:\n",
    "    print(\"You are Eligible for Voting\")\n"
   ]
  },
  {
   "cell_type": "markdown",
   "id": "46b13b22",
   "metadata": {},
   "source": [
    "###### 3) Write a program to check whether a number entered by user is even or odd."
   ]
  },
  {
   "cell_type": "code",
   "execution_count": 9,
   "id": "c2475a8a",
   "metadata": {},
   "outputs": [
    {
     "name": "stdout",
     "output_type": "stream",
     "text": [
      "Enter A Number :3\n",
      "Its an Odd Number\n"
     ]
    }
   ],
   "source": [
    "Number = int(input(\"Enter A Number :\"))\n",
    "if Number%2 == 0 :\n",
    "    print(\"Its a Even Number\")\n",
    "else:\n",
    "    print(\"Its an Odd Number\")"
   ]
  },
  {
   "cell_type": "markdown",
   "id": "b5558706",
   "metadata": {},
   "source": [
    "###### 4) Write a program to check whether a number is divisible by 7 or not."
   ]
  },
  {
   "cell_type": "code",
   "execution_count": 10,
   "id": "97ef1601",
   "metadata": {},
   "outputs": [
    {
     "name": "stdout",
     "output_type": "stream",
     "text": [
      "Enter a Number :56\n",
      "Yes,This Number is Divisible by 7\n"
     ]
    }
   ],
   "source": [
    "Number = int(input(\"Enter a Number :\"))\n",
    "if Number%7 == 0 :\n",
    "    print(\"Yes,This Number is Divisible by 7\")\n",
    "else :\n",
    "    print(\"Sorry this number is not Divisible by 7\")"
   ]
  },
  {
   "cell_type": "markdown",
   "id": "ac457f9b",
   "metadata": {},
   "source": [
    "###### 5) Write a program to display \"Hello\" if a number entered by user is a multiple of five , otherwise print \"Bye\".\n"
   ]
  },
  {
   "cell_type": "code",
   "execution_count": 9,
   "id": "83e9592e",
   "metadata": {},
   "outputs": [
    {
     "name": "stdout",
     "output_type": "stream",
     "text": [
      "Enter a Number25\n",
      "Hello\n"
     ]
    }
   ],
   "source": [
    "Number = int(input(\"Enter a Number\"))\n",
    "if Number%5 == 0 :\n",
    "    print(\"Hello\")\n",
    "else :\n",
    "    print(\"Bye\")"
   ]
  },
  {
   "cell_type": "markdown",
   "id": "6771a1ed",
   "metadata": {},
   "source": [
    "###### 7) Write a program to display the last digit of a number."
   ]
  },
  {
   "cell_type": "markdown",
   "id": "a46fffcd",
   "metadata": {},
   "source": [
    "###### 8). Write a program to check whether the last digit of a number( entered by user ) is divisible by 3 or not.\n",
    "\n"
   ]
  },
  {
   "cell_type": "markdown",
   "id": "6c46f9ba",
   "metadata": {},
   "source": [
    "###### 9) Take values of length and breadth of a rectangle from user and print if it is square or rectangle."
   ]
  },
  {
   "cell_type": "code",
   "execution_count": 12,
   "id": "5064f34c",
   "metadata": {},
   "outputs": [
    {
     "name": "stdout",
     "output_type": "stream",
     "text": [
      "Enter Length :40\n",
      "Enter Breadth50\n",
      "It is a Rectangle\n"
     ]
    }
   ],
   "source": [
    "Length = int(input(\"Enter Length :\"))\n",
    "Breadth = int(input(\"Enter Breadth\"))\n",
    "\n",
    "if Length == Breadth :\n",
    "    print(\"It is a Square\")\n",
    "else :\n",
    "    print(\"It is a Rectangle\")"
   ]
  },
  {
   "cell_type": "markdown",
   "id": "e4bf7bd5",
   "metadata": {},
   "source": [
    "###### 10) Take two int values from user and print greatest among them."
   ]
  },
  {
   "cell_type": "code",
   "execution_count": 25,
   "id": "e450eb48",
   "metadata": {},
   "outputs": [
    {
     "name": "stdout",
     "output_type": "stream",
     "text": [
      "Enter a Number :10\n",
      "Enter a Number :11\n",
      "11\n"
     ]
    }
   ],
   "source": [
    "Number_1 = int(input(\"Enter a Number :\"))\n",
    "Number_2 = int(input(\"Enter a Number :\"))\n",
    "if Number_1>Number_2 :\n",
    "    print(Number_1)\n",
    "\n",
    "else :\n",
    "    print(Number_2)"
   ]
  },
  {
   "cell_type": "markdown",
   "id": "efc50b3f",
   "metadata": {},
   "source": [
    "###### 11) A shop will give discount of 10% if the cost of purchased quantity is more than 1000. Ask user for quantity Suppose, one unit will cost 100. Judge and print total cost for user."
   ]
  },
  {
   "cell_type": "code",
   "execution_count": 36,
   "id": "3a75e4e6",
   "metadata": {},
   "outputs": [
    {
     "name": "stdout",
     "output_type": "stream",
     "text": [
      "Enter Quantity :2000\n",
      "18000.0\n"
     ]
    }
   ],
   "source": [
    "Purchase_Quantity = int(input(\"Enter Quantity :\"))\n",
    "Price = 10\n",
    "if Purchase_Quantity < 1000 :\n",
    "    print(Purchase_Quantity*Price)\n",
    "else :\n",
    "    print(Purchase_Quantity*(Price/10)*9)"
   ]
  },
  {
   "cell_type": "markdown",
   "id": "f216db20",
   "metadata": {},
   "source": [
    "###### 12) A school has following rules for grading system:\n",
    "- a. Below 25 - F\n",
    "- b. 25 to 45 - E\n",
    "- c. 45 to 50 - D\n",
    "- d. 50 to 60 - C\n",
    "- e. 60 to 80 - B\n",
    "- f. Above 80 - A\n",
    "- Ask user to enter marks and print the corresponding grade."
   ]
  },
  {
   "cell_type": "code",
   "execution_count": 39,
   "id": "78174a57",
   "metadata": {},
   "outputs": [
    {
     "name": "stdout",
     "output_type": "stream",
     "text": [
      "Enter Your Percentage40\n",
      "E\n"
     ]
    }
   ],
   "source": [
    "Percentage = int(input(\"Enter Your Percentage\"))\n",
    "if Percentage >= 80 :\n",
    "    print(\"A\")\n",
    "elif Percentage >= 60 :\n",
    "    print(\"B\")\n",
    "elif Percentage >= 50 :\n",
    "    print(\"C\")\n",
    "elif Percentage >= 45 :\n",
    "    print(\"D\")\n",
    "elif Percentage >= 25 :\n",
    "    print(\"E\")\n",
    "else:\n",
    "    print(\"F\")\n",
    "    \n"
   ]
  },
  {
   "cell_type": "markdown",
   "id": "c8b23719",
   "metadata": {},
   "source": [
    "### 14)A student will not be allowed to sit in exam if his/her attendence is less than 75%.\n",
    "Take following input from user\n",
    "- Number of classes held\n",
    "- Number of classes attended.\n",
    "And print\n",
    "- percentage of class attended\n",
    "Is student is allowed to sit in exam or not."
   ]
  },
  {
   "cell_type": "code",
   "execution_count": 10,
   "id": "d9f7fc3d",
   "metadata": {},
   "outputs": [
    {
     "name": "stdout",
     "output_type": "stream",
     "text": [
      "Enter Classes Held :100\n",
      "Enter Classes that you Atended :80\n",
      "You are allowed to sit in exams\n"
     ]
    }
   ],
   "source": [
    "Classes_held = int(input(\"Enter Classes Held :\"))\n",
    "Classes_Atended = int(input(\"Enter Classes that you Atended :\"))\n",
    "if Classes_Atended/Classes_held >= 0.75 :\n",
    "    print(\"You are allowed to sit in exams\")\n",
    "else : \n",
    "    print(\"You are NOT ALLOWED to sit in exams\")"
   ]
  },
  {
   "cell_type": "markdown",
   "id": "a1e412b1",
   "metadata": {},
   "source": [
    "###### 15) Modify the above question to allow student to sit if he/she has medical cause. Ask user if he/she has medical cause or not ( 'Y' or 'N' ) and print accordingly."
   ]
  },
  {
   "cell_type": "code",
   "execution_count": 3,
   "id": "c1556cd5",
   "metadata": {},
   "outputs": [
    {
     "name": "stdout",
     "output_type": "stream",
     "text": [
      "Enter Classes Held :100\n",
      "Enter Classes that you Atended :60\n",
      "Did You suffer Medical Cause :N\n",
      "You are NOT ALLOWED to sit in exams\n"
     ]
    }
   ],
   "source": [
    "Classes_held = int(input(\"Enter Classes Held :\"))\n",
    "Classes_Atended = int(input(\"Enter Classes that you Atended :\"))\n",
    "Illness = input(\"Did You suffer Medical Cause :\")\n",
    "if Classes_Atended/Classes_held >= 0.75 :\n",
    "    print(\"You are allowed to sit in exams\")\n",
    "elif Illness == \"Y\" :\n",
    "    print(\"You can Appear in Exams\")\n",
    "else : \n",
    "    print(\"You are NOT ALLOWED to sit in exams\")"
   ]
  },
  {
   "cell_type": "markdown",
   "id": "f2b7dbf5",
   "metadata": {},
   "source": [
    "###### 16) Write a program to check if a year is leap year or not.If a year is divisible by 4 then it is leap year but if the year is century year like 2000, 1900, 2100 then it must be divisible by 400.\n"
   ]
  },
  {
   "cell_type": "code",
   "execution_count": 7,
   "id": "a04efa58",
   "metadata": {},
   "outputs": [
    {
     "name": "stdout",
     "output_type": "stream",
     "text": [
      "Enter a Year :2024\n",
      "Its a Leap Year\n"
     ]
    }
   ],
   "source": [
    "Year = int(input(\"Enter a Year :\"))\n",
    "if Year % 4 ==0 :\n",
    "    print(\"Its a Leap Year\")\n",
    "else :\n",
    "    print(\"Its Not a Leap Year\")"
   ]
  },
  {
   "cell_type": "markdown",
   "id": "9edd2078",
   "metadata": {},
   "source": [
    "###### 17) Ask user to enter age, gender ( M or F ), marital status ( Y or N ) and then using following rules print their place of service.\n",
    "- if employee is female, then she will work only in urban areas.\n",
    "- if employee is a male and age is in between 20 to 40 then he may work in anywhere\n",
    "- if employee is male and age is in between 40 t0 60 then he will work in urban areas only.\n",
    "- And any other input of age should print \"ERROR\""
   ]
  },
  {
   "cell_type": "code",
   "execution_count": 19,
   "id": "f8fbd9ff",
   "metadata": {},
   "outputs": [
    {
     "name": "stdout",
     "output_type": "stream",
     "text": [
      "Enter Your Age :17\n",
      "Enter Your Gender :F\n",
      "Enter Your Maritial Status :s\n",
      "You will work in any area\n"
     ]
    }
   ],
   "source": [
    "Age = int(input(\"Enter Your Age :\"))\n",
    "Gender = input(\"Enter Your Gender :\")\n",
    "Maritial_Status = input(\"Enter Your Maritial Status :\")\n",
    "\n",
    "if Age <= 40 :\n",
    "    print(\"You will work in any area\")\n",
    "elif Age > 60 :\n",
    "    print(\"ERROR\")\n",
    "elif Age <= 20 :\n",
    "    print(\"ERROR\")\n",
    "elif Age > 40 :\n",
    "    print(\"You will be work in Urban areas Only\")\n",
    "\n",
    "elif Gender == \"F\" :\n",
    "    print(\"You will work only in urban areas\")\n",
    "else:\n",
    "    print(\"ERROR\")"
   ]
  },
  {
   "cell_type": "markdown",
   "id": "67dad394",
   "metadata": {},
   "source": [
    "###### 18) Write a program to calculate the electricity bill (accept number of unit from user) according to the following criteria : Unit Price upto 100 units no charge Next 200 units Rs 5 per unit After 200 units Rs 10 per unit (For example if input unit is 350 than total bill amount is Rs.3500 (For example if input unit is 97 than total bill amount is Rs.0 (For example if input unit is 150 than total bill amount is Rs.750"
   ]
  },
  {
   "cell_type": "markdown",
   "id": "9ce26575",
   "metadata": {},
   "source": [
    "###### 19) Take input of age of 3 people by user and determine oldest and youngest among them.\n"
   ]
  },
  {
   "cell_type": "code",
   "execution_count": null,
   "id": "f976395a",
   "metadata": {},
   "outputs": [],
   "source": []
  }
 ],
 "metadata": {
  "kernelspec": {
   "display_name": "Python 3 (ipykernel)",
   "language": "python",
   "name": "python3"
  },
  "language_info": {
   "codemirror_mode": {
    "name": "ipython",
    "version": 3
   },
   "file_extension": ".py",
   "mimetype": "text/x-python",
   "name": "python",
   "nbconvert_exporter": "python",
   "pygments_lexer": "ipython3",
   "version": "3.11.5"
  }
 },
 "nbformat": 4,
 "nbformat_minor": 5
}
