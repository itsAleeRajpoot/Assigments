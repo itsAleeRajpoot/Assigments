{
 "cells": [
  {
   "cell_type": "code",
   "execution_count": 4,
   "id": "af9ac937",
   "metadata": {},
   "outputs": [
    {
     "name": "stdout",
     "output_type": "stream",
     "text": [
      "Enter Your Name :Alee\n",
      "Enter Your Age :15\n",
      "Sorry You Are Not Eligible For Vote : Because Your Age Is Not Match Requirments .\n",
      "Required Age For Voting = {age_required}\n"
     ]
    }
   ],
   "source": [
    "name = input(\"Enter Your Name :\")\n",
    "age = int(input(\"Enter Your Age :\"))\n",
    "age_required = \"> 18\"\n",
    "\n",
    "if age > 18:\n",
    "    print(\"Congratulations ! You Are Eligible For Vote .\")\n",
    "    print(f\"Required Age For Voting = {age_required}\")\n",
    "else:\n",
    "    print(\"Sorry You Are Not Eligible For Vote : Because Your Age Is Not Match Requirments .\")\n",
    "    print(\"Required Age For Voting = {age_required}\")"
   ]
  },
  {
   "cell_type": "code",
   "execution_count": null,
   "id": "486a7850",
   "metadata": {},
   "outputs": [],
   "source": []
  }
 ],
 "metadata": {
  "kernelspec": {
   "display_name": "Python 3 (ipykernel)",
   "language": "python",
   "name": "python3"
  },
  "language_info": {
   "codemirror_mode": {
    "name": "ipython",
    "version": 3
   },
   "file_extension": ".py",
   "mimetype": "text/x-python",
   "name": "python",
   "nbconvert_exporter": "python",
   "pygments_lexer": "ipython3",
   "version": "3.11.5"
  }
 },
 "nbformat": 4,
 "nbformat_minor": 5
}
